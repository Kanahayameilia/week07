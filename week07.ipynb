{
  "nbformat": 4,
  "nbformat_minor": 0,
  "metadata": {
    "colab": {
      "provenance": []
    },
    "kernelspec": {
      "name": "python3",
      "display_name": "Python 3"
    },
    "language_info": {
      "name": "python"
    }
  },
  "cells": [
    {
      "cell_type": "code",
      "source": [
        "thislist = [\"tws\", \"hts\", \"kys\"]\n",
        "print(thislist)"
      ],
      "metadata": {
        "colab": {
          "base_uri": "https://localhost:8080/"
        },
        "id": "x8g_CmDqp2Vs",
        "outputId": "e519d1a4-8721-486e-a860-77fce25ce8e5"
      },
      "execution_count": 3,
      "outputs": [
        {
          "output_type": "stream",
          "name": "stdout",
          "text": [
            "['tws', 'hts', 'kys']\n"
          ]
        }
      ]
    },
    {
      "cell_type": "code",
      "source": [
        "thislist = [\"tws\", \"hts\", \"kys\", \"tws\"]\n",
        "print(thislist)"
      ],
      "metadata": {
        "colab": {
          "base_uri": "https://localhost:8080/"
        },
        "id": "GKBfU3wrrIvL",
        "outputId": "e3adca2d-d06a-42c2-b064-216ee1c39e0b"
      },
      "execution_count": 4,
      "outputs": [
        {
          "output_type": "stream",
          "name": "stdout",
          "text": [
            "['tws', 'hts', 'kys', 'tws']\n"
          ]
        }
      ]
    },
    {
      "cell_type": "code",
      "source": [
        "thistuple = (\"tws\", \"hts\", \"kys\")\n",
        "print(thistuple)"
      ],
      "metadata": {
        "colab": {
          "base_uri": "https://localhost:8080/"
        },
        "id": "FuF6TSEisKKr",
        "outputId": "3fb980b6-04f7-4b62-9bab-b2a50a70ad70"
      },
      "execution_count": 5,
      "outputs": [
        {
          "output_type": "stream",
          "name": "stdout",
          "text": [
            "('tws', 'hts', 'kys')\n"
          ]
        }
      ]
    },
    {
      "cell_type": "code",
      "source": [
        "thistuple = (\"tws\", \"htd\", \"kys\", \"tws\", \"hts\")\n",
        "print(thistuple)"
      ],
      "metadata": {
        "colab": {
          "base_uri": "https://localhost:8080/"
        },
        "id": "uL8_iFNbsbCj",
        "outputId": "75408410-9176-4d38-825e-eb9f6855d884"
      },
      "execution_count": 6,
      "outputs": [
        {
          "output_type": "stream",
          "name": "stdout",
          "text": [
            "('tws', 'htd', 'kys', 'tws', 'hts')\n"
          ]
        }
      ]
    },
    {
      "cell_type": "code",
      "source": [
        "thisset = {\"tws\", \"hts\", \"kys\"}\n",
        "print(thisset)"
      ],
      "metadata": {
        "colab": {
          "base_uri": "https://localhost:8080/"
        },
        "id": "vjeEG7T1tq6z",
        "outputId": "81caef47-9a93-44ef-a977-3de8ae9befa6"
      },
      "execution_count": 7,
      "outputs": [
        {
          "output_type": "stream",
          "name": "stdout",
          "text": [
            "{'kys', 'tws', 'hts'}\n"
          ]
        }
      ]
    },
    {
      "cell_type": "code",
      "source": [
        "thisset = {\"tws\", \"hts\", \"kys\", \"tws\"}\n",
        "\n",
        "print(thisset)"
      ],
      "metadata": {
        "colab": {
          "base_uri": "https://localhost:8080/"
        },
        "id": "KgbepAUNuWib",
        "outputId": "0dba13d4-c70e-42b7-82ba-65e26fe43fe1"
      },
      "execution_count": 8,
      "outputs": [
        {
          "output_type": "stream",
          "name": "stdout",
          "text": [
            "{'kys', 'tws', 'hts'}\n"
          ]
        }
      ]
    },
    {
      "cell_type": "code",
      "source": [
        "thisdict = {\n",
        "  \"brand\": \"Ford\",\n",
        "  \"model\": \"Mustang\",\n",
        "  \"year\": 1964\n",
        "}\n",
        "print(thisdict)"
      ],
      "metadata": {
        "colab": {
          "base_uri": "https://localhost:8080/"
        },
        "id": "n9X5uoYZv4t7",
        "outputId": "cf7c4deb-9535-423d-869a-ac1d967cb50c"
      },
      "execution_count": 9,
      "outputs": [
        {
          "output_type": "stream",
          "name": "stdout",
          "text": [
            "{'brand': 'Ford', 'model': 'Mustang', 'year': 1964}\n"
          ]
        }
      ]
    },
    {
      "cell_type": "code",
      "source": [
        "thisdict = {\n",
        "  \"brand\": \"Ford\",\n",
        "  \"model\": \"Mustang\",\n",
        "  \"year\": 1964\n",
        "}\n",
        "print(thisdict[\"brand\"])"
      ],
      "metadata": {
        "colab": {
          "base_uri": "https://localhost:8080/"
        },
        "id": "HhXY2VD_wa-z",
        "outputId": "c118b58f-fa41-4f44-adaa-50d9d25d5cd8"
      },
      "execution_count": 12,
      "outputs": [
        {
          "output_type": "stream",
          "name": "stdout",
          "text": [
            "Ford\n"
          ]
        }
      ]
    },
    {
      "cell_type": "code",
      "source": [
        "thisdict = {\n",
        "  \"brand\": \"Ford\",\n",
        "  \"model\": \"Mustang\",\n",
        "  \"year\": 1964,\n",
        "  \"year\": 2020\n",
        "}\n",
        "print(thisdict)"
      ],
      "metadata": {
        "colab": {
          "base_uri": "https://localhost:8080/"
        },
        "id": "QykgcRy6xDHL",
        "outputId": "201eef13-6bfc-4c6e-fad4-a82db70d06cf"
      },
      "execution_count": 13,
      "outputs": [
        {
          "output_type": "stream",
          "name": "stdout",
          "text": [
            "{'brand': 'Ford', 'model': 'Mustang', 'year': 2020}\n"
          ]
        }
      ]
    },
    {
      "cell_type": "code",
      "source": [
        "data_mahasiswa = {\n",
        "    \"Nama\": \" Kanahaya Meilia Sakti \",\n",
        "    \"Kelas\": \" TIF 1 Rombel 2 \",\n",
        "    \"Tanggal Lahir\": \" 05 Desember 2xxx \",\n",
        "    \"No HP\": \" 085838349936 \",\n",
        "    \"Alamat\": \" Jl. Buton, Kedungsari, Magelang Utara \",\n",
        "    \"Hobi\": [\" Denial \", \" Cosplay \"],\n",
        "}\n",
        "\n",
        "\n",
        "for key, value in data_mahasiswa.items():\n",
        "    print(f\"{key}: {value}\")"
      ],
      "metadata": {
        "colab": {
          "base_uri": "https://localhost:8080/"
        },
        "id": "-RSXDP5dlLJM",
        "outputId": "ea470fd0-76ad-421d-c1ea-c077e1c881d2"
      },
      "execution_count": 2,
      "outputs": [
        {
          "output_type": "stream",
          "name": "stdout",
          "text": [
            "Nama:  Kanahaya Meilia Sakti \n",
            "Kelas:  TIF 1 Rombel 2 \n",
            "Tanggal Lahir:  05 Desember 2xxx \n",
            "No HP:  085838349936 \n",
            "Alamat:  Jl. Buton, Kedungsari, Magelang Utara \n",
            "Hobi: [' Denial ', ' Cosplay ']\n"
          ]
        }
      ]
    },
    {
      "cell_type": "code",
      "execution_count": null,
      "metadata": {
        "id": "-oLBDYGqh0nu"
      },
      "outputs": [],
      "source": []
    }
  ]
}